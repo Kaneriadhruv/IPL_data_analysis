{
  "nbformat": 4,
  "nbformat_minor": 0,
  "metadata": {
    "colab": {
      "provenance": [],
      "authorship_tag": "ABX9TyPvGIqUjhICRM5/WgPUbixU",
      "include_colab_link": true
    },
    "kernelspec": {
      "name": "python3",
      "display_name": "Python 3"
    },
    "language_info": {
      "name": "python"
    }
  },
  "cells": [
    {
      "cell_type": "markdown",
      "metadata": {
        "id": "view-in-github",
        "colab_type": "text"
      },
      "source": [
        "<a href=\"https://colab.research.google.com/github/Kaneriadhruv/IPL_data_analysis/blob/main/IPL_Analysis.ipynb\" target=\"_parent\"><img src=\"https://colab.research.google.com/assets/colab-badge.svg\" alt=\"Open In Colab\"/></a>"
      ]
    },
    {
      "cell_type": "code",
      "execution_count": null,
      "metadata": {
        "id": "e_gdDlvJmYbv"
      },
      "outputs": [],
      "source": [
        "# Loading required libraries\n",
        "import numpy as np\n",
        "import pandas as pd\n",
        "import matplotlib.pyplot as plt\n",
        "import seaborn as sns\n",
        "plt.rcParams['figure.figsize'] = (14, 8)"
      ]
    },
    {
      "cell_type": "code",
      "source": [
        "# Uploading file (Setting file path)\n",
        "pathoffile='/content/matchesdata.csv'"
      ],
      "metadata": {
        "id": "hRKj0EKQmkV0"
      },
      "execution_count": null,
      "outputs": []
    },
    {
      "cell_type": "code",
      "source": [
        "# Reading data from file\n",
        "matches=pd.read_csv(pathoffile)"
      ],
      "metadata": {
        "id": "SuBCN_gFnGMS"
      },
      "execution_count": null,
      "outputs": []
    },
    {
      "cell_type": "code",
      "source": [
        "# Numner of rows and colums in file\n",
        "matches.shape"
      ],
      "metadata": {
        "colab": {
          "base_uri": "https://localhost:8080/"
        },
        "id": "dRkqVXrTnVEI",
        "outputId": "7d6f637e-bc49-4d61-84d2-02167c37a624"
      },
      "execution_count": null,
      "outputs": [
        {
          "output_type": "execute_result",
          "data": {
            "text/plain": [
              "(756, 18)"
            ]
          },
          "metadata": {},
          "execution_count": 5
        }
      ]
    },
    {
      "cell_type": "code",
      "source": [
        "matches.describe()"
      ],
      "metadata": {
        "colab": {
          "base_uri": "https://localhost:8080/",
          "height": 300
        },
        "id": "0Qsw8vsCnmDv",
        "outputId": "e8a5d256-67e2-451e-9d87-ec6e2cf994a8"
      },
      "execution_count": null,
      "outputs": [
        {
          "output_type": "execute_result",
          "data": {
            "text/plain": [
              "                 id       season  dl_applied  win_by_runs  win_by_wickets\n",
              "count    756.000000   756.000000  756.000000   756.000000      756.000000\n",
              "mean    1792.178571  2013.444444    0.025132    13.283069        3.350529\n",
              "std     3464.478148     3.366895    0.156630    23.471144        3.387963\n",
              "min        1.000000  2008.000000    0.000000     0.000000        0.000000\n",
              "25%      189.750000  2011.000000    0.000000     0.000000        0.000000\n",
              "50%      378.500000  2013.000000    0.000000     0.000000        4.000000\n",
              "75%      567.250000  2016.000000    0.000000    19.000000        6.000000\n",
              "max    11415.000000  2019.000000    1.000000   146.000000       10.000000"
            ],
            "text/html": [
              "\n",
              "  <div id=\"df-8caa2cc7-b967-4f85-9146-c5984f6a91f2\">\n",
              "    <div class=\"colab-df-container\">\n",
              "      <div>\n",
              "<style scoped>\n",
              "    .dataframe tbody tr th:only-of-type {\n",
              "        vertical-align: middle;\n",
              "    }\n",
              "\n",
              "    .dataframe tbody tr th {\n",
              "        vertical-align: top;\n",
              "    }\n",
              "\n",
              "    .dataframe thead th {\n",
              "        text-align: right;\n",
              "    }\n",
              "</style>\n",
              "<table border=\"1\" class=\"dataframe\">\n",
              "  <thead>\n",
              "    <tr style=\"text-align: right;\">\n",
              "      <th></th>\n",
              "      <th>id</th>\n",
              "      <th>season</th>\n",
              "      <th>dl_applied</th>\n",
              "      <th>win_by_runs</th>\n",
              "      <th>win_by_wickets</th>\n",
              "    </tr>\n",
              "  </thead>\n",
              "  <tbody>\n",
              "    <tr>\n",
              "      <th>count</th>\n",
              "      <td>756.000000</td>\n",
              "      <td>756.000000</td>\n",
              "      <td>756.000000</td>\n",
              "      <td>756.000000</td>\n",
              "      <td>756.000000</td>\n",
              "    </tr>\n",
              "    <tr>\n",
              "      <th>mean</th>\n",
              "      <td>1792.178571</td>\n",
              "      <td>2013.444444</td>\n",
              "      <td>0.025132</td>\n",
              "      <td>13.283069</td>\n",
              "      <td>3.350529</td>\n",
              "    </tr>\n",
              "    <tr>\n",
              "      <th>std</th>\n",
              "      <td>3464.478148</td>\n",
              "      <td>3.366895</td>\n",
              "      <td>0.156630</td>\n",
              "      <td>23.471144</td>\n",
              "      <td>3.387963</td>\n",
              "    </tr>\n",
              "    <tr>\n",
              "      <th>min</th>\n",
              "      <td>1.000000</td>\n",
              "      <td>2008.000000</td>\n",
              "      <td>0.000000</td>\n",
              "      <td>0.000000</td>\n",
              "      <td>0.000000</td>\n",
              "    </tr>\n",
              "    <tr>\n",
              "      <th>25%</th>\n",
              "      <td>189.750000</td>\n",
              "      <td>2011.000000</td>\n",
              "      <td>0.000000</td>\n",
              "      <td>0.000000</td>\n",
              "      <td>0.000000</td>\n",
              "    </tr>\n",
              "    <tr>\n",
              "      <th>50%</th>\n",
              "      <td>378.500000</td>\n",
              "      <td>2013.000000</td>\n",
              "      <td>0.000000</td>\n",
              "      <td>0.000000</td>\n",
              "      <td>4.000000</td>\n",
              "    </tr>\n",
              "    <tr>\n",
              "      <th>75%</th>\n",
              "      <td>567.250000</td>\n",
              "      <td>2016.000000</td>\n",
              "      <td>0.000000</td>\n",
              "      <td>19.000000</td>\n",
              "      <td>6.000000</td>\n",
              "    </tr>\n",
              "    <tr>\n",
              "      <th>max</th>\n",
              "      <td>11415.000000</td>\n",
              "      <td>2019.000000</td>\n",
              "      <td>1.000000</td>\n",
              "      <td>146.000000</td>\n",
              "      <td>10.000000</td>\n",
              "    </tr>\n",
              "  </tbody>\n",
              "</table>\n",
              "</div>\n",
              "      <button class=\"colab-df-convert\" onclick=\"convertToInteractive('df-8caa2cc7-b967-4f85-9146-c5984f6a91f2')\"\n",
              "              title=\"Convert this dataframe to an interactive table.\"\n",
              "              style=\"display:none;\">\n",
              "        \n",
              "  <svg xmlns=\"http://www.w3.org/2000/svg\" height=\"24px\"viewBox=\"0 0 24 24\"\n",
              "       width=\"24px\">\n",
              "    <path d=\"M0 0h24v24H0V0z\" fill=\"none\"/>\n",
              "    <path d=\"M18.56 5.44l.94 2.06.94-2.06 2.06-.94-2.06-.94-.94-2.06-.94 2.06-2.06.94zm-11 1L8.5 8.5l.94-2.06 2.06-.94-2.06-.94L8.5 2.5l-.94 2.06-2.06.94zm10 10l.94 2.06.94-2.06 2.06-.94-2.06-.94-.94-2.06-.94 2.06-2.06.94z\"/><path d=\"M17.41 7.96l-1.37-1.37c-.4-.4-.92-.59-1.43-.59-.52 0-1.04.2-1.43.59L10.3 9.45l-7.72 7.72c-.78.78-.78 2.05 0 2.83L4 21.41c.39.39.9.59 1.41.59.51 0 1.02-.2 1.41-.59l7.78-7.78 2.81-2.81c.8-.78.8-2.07 0-2.86zM5.41 20L4 18.59l7.72-7.72 1.47 1.35L5.41 20z\"/>\n",
              "  </svg>\n",
              "      </button>\n",
              "      \n",
              "  <style>\n",
              "    .colab-df-container {\n",
              "      display:flex;\n",
              "      flex-wrap:wrap;\n",
              "      gap: 12px;\n",
              "    }\n",
              "\n",
              "    .colab-df-convert {\n",
              "      background-color: #E8F0FE;\n",
              "      border: none;\n",
              "      border-radius: 50%;\n",
              "      cursor: pointer;\n",
              "      display: none;\n",
              "      fill: #1967D2;\n",
              "      height: 32px;\n",
              "      padding: 0 0 0 0;\n",
              "      width: 32px;\n",
              "    }\n",
              "\n",
              "    .colab-df-convert:hover {\n",
              "      background-color: #E2EBFA;\n",
              "      box-shadow: 0px 1px 2px rgba(60, 64, 67, 0.3), 0px 1px 3px 1px rgba(60, 64, 67, 0.15);\n",
              "      fill: #174EA6;\n",
              "    }\n",
              "\n",
              "    [theme=dark] .colab-df-convert {\n",
              "      background-color: #3B4455;\n",
              "      fill: #D2E3FC;\n",
              "    }\n",
              "\n",
              "    [theme=dark] .colab-df-convert:hover {\n",
              "      background-color: #434B5C;\n",
              "      box-shadow: 0px 1px 3px 1px rgba(0, 0, 0, 0.15);\n",
              "      filter: drop-shadow(0px 1px 2px rgba(0, 0, 0, 0.3));\n",
              "      fill: #FFFFFF;\n",
              "    }\n",
              "  </style>\n",
              "\n",
              "      <script>\n",
              "        const buttonEl =\n",
              "          document.querySelector('#df-8caa2cc7-b967-4f85-9146-c5984f6a91f2 button.colab-df-convert');\n",
              "        buttonEl.style.display =\n",
              "          google.colab.kernel.accessAllowed ? 'block' : 'none';\n",
              "\n",
              "        async function convertToInteractive(key) {\n",
              "          const element = document.querySelector('#df-8caa2cc7-b967-4f85-9146-c5984f6a91f2');\n",
              "          const dataTable =\n",
              "            await google.colab.kernel.invokeFunction('convertToInteractive',\n",
              "                                                     [key], {});\n",
              "          if (!dataTable) return;\n",
              "\n",
              "          const docLinkHtml = 'Like what you see? Visit the ' +\n",
              "            '<a target=\"_blank\" href=https://colab.research.google.com/notebooks/data_table.ipynb>data table notebook</a>'\n",
              "            + ' to learn more about interactive tables.';\n",
              "          element.innerHTML = '';\n",
              "          dataTable['output_type'] = 'display_data';\n",
              "          await google.colab.output.renderOutput(dataTable, element);\n",
              "          const docLink = document.createElement('div');\n",
              "          docLink.innerHTML = docLinkHtml;\n",
              "          element.appendChild(docLink);\n",
              "        }\n",
              "      </script>\n",
              "    </div>\n",
              "  </div>\n",
              "  "
            ]
          },
          "metadata": {},
          "execution_count": 8
        }
      ]
    },
    {
      "cell_type": "code",
      "source": [
        "matches.info()"
      ],
      "metadata": {
        "colab": {
          "base_uri": "https://localhost:8080/"
        },
        "id": "uvFAwcXpnshr",
        "outputId": "5e564d2a-4e44-4d71-d622-c095fe29934f"
      },
      "execution_count": null,
      "outputs": [
        {
          "output_type": "stream",
          "name": "stdout",
          "text": [
            "<class 'pandas.core.frame.DataFrame'>\n",
            "RangeIndex: 756 entries, 0 to 755\n",
            "Data columns (total 18 columns):\n",
            " #   Column           Non-Null Count  Dtype \n",
            "---  ------           --------------  ----- \n",
            " 0   id               756 non-null    int64 \n",
            " 1   season           756 non-null    int64 \n",
            " 2   city             749 non-null    object\n",
            " 3   date             756 non-null    object\n",
            " 4   team1            756 non-null    object\n",
            " 5   team2            756 non-null    object\n",
            " 6   toss_winner      756 non-null    object\n",
            " 7   toss_decision    756 non-null    object\n",
            " 8   result           756 non-null    object\n",
            " 9   dl_applied       756 non-null    int64 \n",
            " 10  winner           752 non-null    object\n",
            " 11  win_by_runs      756 non-null    int64 \n",
            " 12  win_by_wickets   756 non-null    int64 \n",
            " 13  player_of_match  752 non-null    object\n",
            " 14  venue            756 non-null    object\n",
            " 15  umpire1          754 non-null    object\n",
            " 16  umpire2          754 non-null    object\n",
            " 17  umpire3          119 non-null    object\n",
            "dtypes: int64(5), object(13)\n",
            "memory usage: 106.4+ KB\n"
          ]
        }
      ]
    },
    {
      "cell_type": "code",
      "source": [
        "# List of years\n",
        "matches['season'].unique()"
      ],
      "metadata": {
        "colab": {
          "base_uri": "https://localhost:8080/"
        },
        "id": "MV0Kty-Jn7Ao",
        "outputId": "a656f73f-a37e-403a-e122-0297d6ae195e"
      },
      "execution_count": null,
      "outputs": [
        {
          "output_type": "execute_result",
          "data": {
            "text/plain": [
              "array([2017, 2008, 2009, 2010, 2011, 2012, 2013, 2014, 2015, 2016, 2018,\n",
              "       2019])"
            ]
          },
          "metadata": {},
          "execution_count": 11
        }
      ]
    },
    {
      "cell_type": "code",
      "source": [
        "# Match WON by max margine of runs\n",
        "matches.iloc[matches['win_by_runs'].idxmax()]"
      ],
      "metadata": {
        "colab": {
          "base_uri": "https://localhost:8080/"
        },
        "id": "c-9QHOJRoBqb",
        "outputId": "b5765145-116e-4330-b4dc-e0ffa770aea1"
      },
      "execution_count": null,
      "outputs": [
        {
          "output_type": "execute_result",
          "data": {
            "text/plain": [
              "id                               44\n",
              "season                         2017\n",
              "city                          Delhi\n",
              "date                     2017-05-06\n",
              "team1                Mumbai Indians\n",
              "team2              Delhi Daredevils\n",
              "toss_winner        Delhi Daredevils\n",
              "toss_decision                 field\n",
              "result                       normal\n",
              "dl_applied                        0\n",
              "winner               Mumbai Indians\n",
              "win_by_runs                     146\n",
              "win_by_wickets                    0\n",
              "player_of_match         LMP Simmons\n",
              "venue              Feroz Shah Kotla\n",
              "umpire1                 Nitin Menon\n",
              "umpire2                   CK Nandan\n",
              "umpire3                         NaN\n",
              "Name: 43, dtype: object"
            ]
          },
          "metadata": {},
          "execution_count": 14
        }
      ]
    },
    {
      "cell_type": "code",
      "source": [
        "# Match WON by max wickets\n",
        "matches.iloc[matches['win_by_wickets'].idxmax()]"
      ],
      "metadata": {
        "colab": {
          "base_uri": "https://localhost:8080/"
        },
        "id": "gNuhyeHhpCOy",
        "outputId": "f2571e46-6558-4251-c22e-20ad8845db94"
      },
      "execution_count": null,
      "outputs": [
        {
          "output_type": "execute_result",
          "data": {
            "text/plain": [
              "id                                                      3\n",
              "season                                               2017\n",
              "city                                               Rajkot\n",
              "date                                           2017-04-07\n",
              "team1                                       Gujarat Lions\n",
              "team2                               Kolkata Knight Riders\n",
              "toss_winner                         Kolkata Knight Riders\n",
              "toss_decision                                       field\n",
              "result                                             normal\n",
              "dl_applied                                              0\n",
              "winner                              Kolkata Knight Riders\n",
              "win_by_runs                                             0\n",
              "win_by_wickets                                         10\n",
              "player_of_match                                   CA Lynn\n",
              "venue              Saurashtra Cricket Association Stadium\n",
              "umpire1                                       Nitin Menon\n",
              "umpire2                                         CK Nandan\n",
              "umpire3                                               NaN\n",
              "Name: 2, dtype: object"
            ]
          },
          "metadata": {},
          "execution_count": 15
        }
      ]
    },
    {
      "cell_type": "code",
      "source": [
        "# Match WON by min margin of runs (not by 1 run)\n",
        "matches.iloc[matches[matches['win_by_runs'].ge(1)].win_by_runs.idxmin()]"
      ],
      "metadata": {
        "colab": {
          "base_uri": "https://localhost:8080/"
        },
        "id": "8Hnie1zCpU9R",
        "outputId": "fe6fa66f-779d-4eb7-dca9-d8bb81f806f9"
      },
      "execution_count": null,
      "outputs": [
        {
          "output_type": "execute_result",
          "data": {
            "text/plain": [
              "id                                                        59\n",
              "season                                                  2017\n",
              "city                                               Hyderabad\n",
              "date                                              2017-05-21\n",
              "team1                                         Mumbai Indians\n",
              "team2                                 Rising Pune Supergiant\n",
              "toss_winner                                   Mumbai Indians\n",
              "toss_decision                                            bat\n",
              "result                                                normal\n",
              "dl_applied                                                 0\n",
              "winner                                        Mumbai Indians\n",
              "win_by_runs                                                1\n",
              "win_by_wickets                                             0\n",
              "player_of_match                                    KH Pandya\n",
              "venue              Rajiv Gandhi International Stadium, Uppal\n",
              "umpire1                                             NJ Llong\n",
              "umpire2                                               S Ravi\n",
              "umpire3                                                  NaN\n",
              "Name: 58, dtype: object"
            ]
          },
          "metadata": {},
          "execution_count": 16
        }
      ]
    },
    {
      "cell_type": "code",
      "source": [
        "# Match WON by min wickets (not by 0 wickets)\n",
        "matches.iloc[matches[matches['win_by_wickets'].ge(1)].win_by_wickets.idxmin()]"
      ],
      "metadata": {
        "colab": {
          "base_uri": "https://localhost:8080/"
        },
        "id": "nlQIzbpkp7IS",
        "outputId": "351bfdd0-13b5-4ddb-aa36-c840881c4533"
      },
      "execution_count": null,
      "outputs": [
        {
          "output_type": "execute_result",
          "data": {
            "text/plain": [
              "id                                   560\n",
              "season                              2015\n",
              "city                             Kolkata\n",
              "date                          2015-05-09\n",
              "team1                    Kings XI Punjab\n",
              "team2              Kolkata Knight Riders\n",
              "toss_winner              Kings XI Punjab\n",
              "toss_decision                        bat\n",
              "result                            normal\n",
              "dl_applied                             0\n",
              "winner             Kolkata Knight Riders\n",
              "win_by_runs                            0\n",
              "win_by_wickets                         1\n",
              "player_of_match               AD Russell\n",
              "venue                       Eden Gardens\n",
              "umpire1                     AK Chaudhary\n",
              "umpire2                  HDPK Dharmasena\n",
              "umpire3                              NaN\n",
              "Name: 559, dtype: object"
            ]
          },
          "metadata": {},
          "execution_count": 19
        }
      ]
    },
    {
      "cell_type": "code",
      "source": [
        "# Matches where D/L method was and wasn't applied\n",
        "# 0 indicates normal match with no D/L method applied \n",
        "# 1 indicates a rain curtailed match with D/L method being applied\n",
        "matches['dl_applied'].value_counts()"
      ],
      "metadata": {
        "colab": {
          "base_uri": "https://localhost:8080/"
        },
        "id": "BPNprUOQqJ7L",
        "outputId": "8d616aa0-fd66-4d42-d4e8-08c93a73007c"
      },
      "execution_count": null,
      "outputs": [
        {
          "output_type": "execute_result",
          "data": {
            "text/plain": [
              "0    737\n",
              "1     19\n",
              "Name: dl_applied, dtype: int64"
            ]
          },
          "metadata": {},
          "execution_count": 20
        }
      ]
    },
    {
      "cell_type": "code",
      "source": [
        "# % of matches with and without D/L method (0 for no D/L and 1 for D/L method applied)\n",
        "round(matches['dl_applied'].value_counts()/matches['dl_applied'].count()*100, 2)"
      ],
      "metadata": {
        "colab": {
          "base_uri": "https://localhost:8080/"
        },
        "id": "Y7s5y2g3s9qP",
        "outputId": "5f7572e6-25e6-4be9-ba2b-603e75762f4a"
      },
      "execution_count": null,
      "outputs": [
        {
          "output_type": "execute_result",
          "data": {
            "text/plain": [
              "0    97.49\n",
              "1     2.51\n",
              "Name: dl_applied, dtype: float64"
            ]
          },
          "metadata": {},
          "execution_count": 21
        }
      ]
    },
    {
      "cell_type": "code",
      "source": [
        "# Number of matches held in each city\n",
        "sns.countplot(y='city', data=matches)\n",
        "plt.title('Number of matches held in each city\\n')\n",
        "plt.xlabel('\\nNumber of matches held')\n",
        "plt.xlim([0,120])\n",
        "plt.show()"
      ],
      "metadata": {
        "colab": {
          "base_uri": "https://localhost:8080/",
          "height": 539
        },
        "id": "6EApceqEta5V",
        "outputId": "909200f5-0ece-40ed-e457-25d6daecc806"
      },
      "execution_count": null,
      "outputs": [
        {
          "output_type": "display_data",
          "data": {
            "text/plain": [
              "<Figure size 1008x576 with 1 Axes>"
            ],
            "image/png": "[encoded data removed]"
          },
          "metadata": {
            "needs_background": "light"
          }
        }
      ]
    },
    {
      "cell_type": "code",
      "source": [
        "# Number of matches won by each team\n",
        "matches['winner'].value_counts()"
      ],
      "metadata": {
        "colab": {
          "base_uri": "https://localhost:8080/"
        },
        "id": "GwiYP6xqt04B",
        "outputId": "6b2e20ee-7ea2-4083-d9b3-cdb6a26ec401"
      },
      "execution_count": null,
      "outputs": [
        {
          "output_type": "execute_result",
          "data": {
            "text/plain": [
              "Mumbai Indians                 109\n",
              "Chennai Super Kings            100\n",
              "Kolkata Knight Riders           92\n",
              "Royal Challengers Bangalore     84\n",
              "Kings XI Punjab                 82\n",
              "Rajasthan Royals                75\n",
              "Delhi Daredevils                67\n",
              "Sunrisers Hyderabad             58\n",
              "Deccan Chargers                 29\n",
              "Gujarat Lions                   13\n",
              "Pune Warriors                   12\n",
              "Rising Pune Supergiant          10\n",
              "Delhi Capitals                  10\n",
              "Kochi Tuskers Kerala             6\n",
              "Rising Pune Supergiants          5\n",
              "Name: winner, dtype: int64"
            ]
          },
          "metadata": {},
          "execution_count": 27
        }
      ]
    },
    {
      "cell_type": "code",
      "source": [
        "# Plot to visualise the number of matches won by each team\n",
        "data=matches['winner'].value_counts()\n",
        "fig, ax=plt.subplots()\n",
        "ax.set_xlim([0,120])\n",
        "sns.barplot(y=data.index, x=data, orient='h')\n",
        "plt.title('No. of matches won by each team\\n')\n",
        "plt.xlabel(\"\\nNo. of matches won\")\n",
        "plt.ylabel('Teams\\n')\n",
        "plt.show()"
      ],
      "metadata": {
        "colab": {
          "base_uri": "https://localhost:8080/",
          "height": 539
        },
        "id": "on4MCRwau2ei",
        "outputId": "d365e280-466d-40a7-e585-ebc43b59fd95"
      },
      "execution_count": null,
      "outputs": [
        {
          "output_type": "display_data",
          "data": {
            "text/plain": [
              "<Figure size 1008x576 with 1 Axes>"
            ],
            "image/png": "[encoded data removed]"
          },
          "metadata": {
            "needs_background": "light"
          }
        }
      ]
    },
    {
      "cell_type": "code",
      "source": [
        "# Plot to visualise the number of matches held every season\n",
        "sns.countplot(x='season', data=matches)\n",
        "plt.title('No. of matches held every season\\n')\n",
        "plt.xlabel('\\nSeason')\n",
        "plt.ylabel('No. of matches held\\n')\n",
        "plt.show()"
      ],
      "metadata": {
        "colab": {
          "base_uri": "https://localhost:8080/",
          "height": 539
        },
        "id": "M93CQjuovMz_",
        "outputId": "8fdcf500-0eac-4862-f24a-1525ca66cd42"
      },
      "execution_count": null,
      "outputs": [
        {
          "output_type": "display_data",
          "data": {
            "text/plain": [
              "<Figure size 1008x576 with 1 Axes>"
            ],
            "image/png": "[encoded data removed]"
          },
          "metadata": {
            "needs_background": "light"
          }
        }
      ]
    },
    {
      "cell_type": "code",
      "source": [
        "# Top 10 players based on the no. of Man of Match (MOM) awards won\n",
        "mom=matches['player_of_match'].value_counts()[:10]\n",
        "print('Man of match\\n', mom)"
      ],
      "metadata": {
        "colab": {
          "base_uri": "https://localhost:8080/"
        },
        "id": "-cS1ImzAwVfJ",
        "outputId": "371b1651-ea3b-4b0c-d245-8e869511a3f3"
      },
      "execution_count": null,
      "outputs": [
        {
          "output_type": "stream",
          "name": "stdout",
          "text": [
            "Man of match\n",
            " CH Gayle          21\n",
            "AB de Villiers    20\n",
            "RG Sharma         17\n",
            "MS Dhoni          17\n",
            "DA Warner         17\n",
            "YK Pathan         16\n",
            "SR Watson         15\n",
            "SK Raina          14\n",
            "G Gambhir         13\n",
            "MEK Hussey        12\n",
            "Name: player_of_match, dtype: int64\n"
          ]
        }
      ]
    },
    {
      "cell_type": "code",
      "source": [
        "# Plot to visualise the top 10 players based on the no. of MOM awards won\n",
        "fig, ax=plt.subplots()\n",
        "ax.set_ylim([0,28])\n",
        "ax.set_title('Top 10 players based on no. of MOM awards won\\n')\n",
        "sns.barplot(x=mom.index, y=mom, orient='v')\n",
        "plt.ylabel('No. of MOM awards won\\n')\n",
        "plt.xlabel('\\nPlayers')\n",
        "plt.show()"
      ],
      "metadata": {
        "colab": {
          "base_uri": "https://localhost:8080/",
          "height": 539
        },
        "id": "btkiLBrtwtMC",
        "outputId": "7a578c0a-8ed4-42c7-fd7d-a3053bdeacae"
      },
      "execution_count": null,
      "outputs": [
        {
          "output_type": "display_data",
          "data": {
            "text/plain": [
              "<Figure size 1008x576 with 1 Axes>"
            ],
            "image/png": "[encoded data removed]"
          },
          "metadata": {
            "needs_background": "light"
          }
        }
      ]
    },
    {
      "cell_type": "code",
      "source": [
        "# Does winning the toss mean winning the match?\n",
        "winnerwinner=matches['toss_winner']== matches['winner']\n",
        "winnerwinner.groupby(winnerwinner).size()"
      ],
      "metadata": {
        "colab": {
          "base_uri": "https://localhost:8080/"
        },
        "id": "NqVrX8mvyLlT",
        "outputId": "7938164d-0e0a-4020-b002-2dfd51f8979d"
      },
      "execution_count": null,
      "outputs": [
        {
          "output_type": "execute_result",
          "data": {
            "text/plain": [
              "False    363\n",
              "True     393\n",
              "dtype: int64"
            ]
          },
          "metadata": {},
          "execution_count": 41
        }
      ]
    },
    {
      "cell_type": "code",
      "source": [
        "# % of games where the toss winning team lost the match (indicated by false) and toss winning team won the match(indicated by true)\n",
        "round(winnerwinner.groupby(winnerwinner).size() / winnerwinner.count() * 100,2)"
      ],
      "metadata": {
        "colab": {
          "base_uri": "https://localhost:8080/"
        },
        "id": "1Yl87mAmyRFF",
        "outputId": "b501355d-e61c-4aa6-f99c-725d6a3d2388"
      },
      "execution_count": null,
      "outputs": [
        {
          "output_type": "execute_result",
          "data": {
            "text/plain": [
              "False    48.02\n",
              "True     51.98\n",
              "dtype: float64"
            ]
          },
          "metadata": {},
          "execution_count": 42
        }
      ]
    },
    {
      "cell_type": "code",
      "source": [],
      "metadata": {
        "id": "6LvVzI8OzTdG"
      },
      "execution_count": null,
      "outputs": []
    }
  ]
}